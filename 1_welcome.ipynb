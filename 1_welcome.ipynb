{
 "cells": [
  {
   "cell_type": "markdown",
   "metadata": {
    "slideshow": {
     "slide_type": "skip"
    },
    "toc": true
   },
   "source": [
    "<h1>Table of Contents<span class=\"tocSkip\"></span></h1>\n",
    "<div class=\"toc\"><ul class=\"toc-item\"><li><span><a href=\"#Who-am-I?\" data-toc-modified-id=\"Who-am-I?-1\">Who am I?</a></span></li><li><span><a href=\"#What-Do-I-Do?\" data-toc-modified-id=\"What-Do-I-Do?-2\">What Do I Do?</a></span></li><li><span><a href=\"#Quick-Survey-(eyes-closed)\" data-toc-modified-id=\"Quick-Survey-(eyes-closed)-3\">Quick Survey (eyes closed)</a></span></li><li><span><a href=\"#Learning-Outcomes\" data-toc-modified-id=\"Learning-Outcomes-4\">Learning Outcomes</a></span></li><li><span><a href=\"#Workshop-Guidelines\" data-toc-modified-id=\"Workshop-Guidelines-5\">Workshop Guidelines</a></span></li><li><span><a href=\"#Student-Activity\" data-toc-modified-id=\"Student-Activity-6\">Student Activity</a></span></li><li><span><a href=\"#Workshop-Setup\" data-toc-modified-id=\"Workshop-Setup-7\">Workshop Setup</a></span></li><li><span><a href=\"#Questions?\" data-toc-modified-id=\"Questions?-8\">Questions?</a></span></li></ul></div>"
   ]
  },
  {
   "cell_type": "markdown",
   "metadata": {
    "slideshow": {
     "slide_type": "slide"
    }
   },
   "source": [
    "<center><img src=\"images/title.svg\" width=\"95%\"/></center>\n",
    "<center><a href=\"http://bit.ly/pybay19-workshop\">bit.ly/pybay19-workshop</a></center>"
   ]
  },
  {
   "cell_type": "markdown",
   "metadata": {
    "slideshow": {
     "slide_type": "slide"
    }
   },
   "source": [
    " <center><h2>Who am I?</h2></center>\n",
    " \n",
    " <center><img src=\"images/me.png\" width=\"65%\"/></center>"
   ]
  },
  {
   "cell_type": "markdown",
   "metadata": {
    "slideshow": {
     "slide_type": "slide"
    }
   },
   "source": [
    "<center><h2>What Do I Do?</h2></center>\n",
    "\n",
    "<b><center>Professor @</center><b>\n",
    "<center><img src=\"images/msds_logo.png\" width=\"45%\"/></center>"
   ]
  },
  {
   "cell_type": "markdown",
   "metadata": {
    "slideshow": {
     "slide_type": "slide"
    }
   },
   "source": [
    "<center><h2>Quick Survey (eyes closed)</h2></center>\n",
    "\n"
   ]
  },
  {
   "cell_type": "markdown",
   "metadata": {
    "slideshow": {
     "slide_type": "fragment"
    }
   },
   "source": [
    "- Who is excited?\n",
    "- Who is nervous? Who feels they aren't good at programming?\n",
    "- Who can make a variable in Python?\n",
    "- Who can make a simple function in Python?\n",
    "- Who can make a class in Python?\n",
    "- Who already works with data (aka, does data science related stuff)?\n",
    "- Who is aspiring to move in that direction?"
   ]
  },
  {
   "cell_type": "markdown",
   "metadata": {
    "slideshow": {
     "slide_type": "slide"
    }
   },
   "source": [
    "<center><h2>Learning Outcomes</h2></center>\n",
    "\n",
    "__By the end of this workshop, you should be able to__:\n",
    "\n",
    "- Apply general Python programming skills to solve data science related problems.\n",
    "- Write list comprehensions to process data.\n",
    "- Use Python's `dict` to store data.\n",
    "- Write a Naive Bayes Classifier from scratch.\n"
   ]
  },
  {
   "cell_type": "markdown",
   "metadata": {
    "slideshow": {
     "slide_type": "slide"
    }
   },
   "source": [
    "<center><h2>Workshop Guidelines</h2></center>"
   ]
  },
  {
   "cell_type": "markdown",
   "metadata": {
    "slideshow": {
     "slide_type": "fragment"
    }
   },
   "source": [
    "- I can make assumptions and accidentally use technical jargon. If I say something that is confusing, please stop me and ask me to explain."
   ]
  },
  {
   "cell_type": "markdown",
   "metadata": {
    "slideshow": {
     "slide_type": "fragment"
    }
   },
   "source": [
    "- You'll have two stickies: \n",
    "    - Green means the exercise is complete.\n",
    "    - Red means stuck and need help."
   ]
  },
  {
   "cell_type": "markdown",
   "metadata": {
    "slideshow": {
     "slide_type": "fragment"
    }
   },
   "source": [
    "- Every 45-60 minutes we'll take a break to recharge."
   ]
  },
  {
   "cell_type": "markdown",
   "metadata": {
    "slideshow": {
     "slide_type": "slide"
    }
   },
   "source": [
    "<center><h2>Student Activity</h2></center>\n",
    "<br>\n",
    "<br>\n",
    "<center>Introduce yourself to your neighbors</center>"
   ]
  },
  {
   "cell_type": "markdown",
   "metadata": {
    "slideshow": {
     "slide_type": "slide"
    }
   },
   "source": [
    "<center><h2>Workshop Setup</h2></center>\n",
    "\n",
    "It is best if you use Jupyter Notebook to follow along. <a href=\"http://bit.ly/pybay19-workshop\">bit.ly/pybay19-workshop</a>\n",
    "\n",
    "__Options__:\n",
    "\n",
    "1. Colab: [colab.research.google.com](https://colab.research.google.com/) (think Jupyter Notebook on Google Drive)\n",
    "1. Run the repo on your local computer."
   ]
  },
  {
   "cell_type": "markdown",
   "metadata": {
    "slideshow": {
     "slide_type": "fragment"
    }
   },
   "source": [
    "- Raise a red stickie if you are stuck on setup."
   ]
  },
  {
   "cell_type": "markdown",
   "metadata": {
    "slideshow": {
     "slide_type": "slide"
    }
   },
   "source": [
    "<center><h2>Questions?</h2></center>"
   ]
  },
  {
   "cell_type": "markdown",
   "metadata": {
    "slideshow": {
     "slide_type": "slide"
    }
   },
   "source": [
    " "
   ]
  }
 ],
 "metadata": {
  "celltoolbar": "Slideshow",
  "kernelspec": {
   "display_name": "Python 3",
   "language": "python",
   "name": "python3"
  },
  "language_info": {
   "codemirror_mode": {
    "name": "ipython",
    "version": 3
   },
   "file_extension": ".py",
   "mimetype": "text/x-python",
   "name": "python",
   "nbconvert_exporter": "python",
   "pygments_lexer": "ipython3",
   "version": "3.7.4"
  },
  "toc": {
   "base_numbering": 1,
   "nav_menu": {},
   "number_sections": false,
   "sideBar": false,
   "skip_h1_title": false,
   "title_cell": "Table of Contents",
   "title_sidebar": "Contents",
   "toc_cell": true,
   "toc_position": {},
   "toc_section_display": true,
   "toc_window_display": false
  }
 },
 "nbformat": 4,
 "nbformat_minor": 2
}
