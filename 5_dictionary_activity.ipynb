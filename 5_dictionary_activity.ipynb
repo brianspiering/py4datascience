{
 "cells": [
  {
   "cell_type": "markdown",
   "metadata": {
    "nbgrader": {
     "grade": false,
     "grade_id": "cell-f49b8ea35a2dabd9",
     "locked": true,
     "schema_version": 1,
     "solution": false
    },
    "toc": true
   },
   "source": [
    "<h1>Table of Contents<span class=\"tocSkip\"></span></h1>\n",
    "<div class=\"toc\"><ul class=\"toc-item\"><li><span><a href=\"#Student-Activity:-Python's-dict-and-friends\" data-toc-modified-id=\"Student-Activity:-Python's-dict-and-friends-1\">Student Activity: Python's dict and friends</a></span><ul class=\"toc-item\"><li><span><a href=\"#1)-Count-the-occurrence-letters-and-get-summary-statistics\" data-toc-modified-id=\"1)-Count-the-occurrence-letters-and-get-summary-statistics-1.1\">1) Count the occurrence letters and get summary statistics</a></span></li><li><span><a href=\"#2)-Calculate-the-sum-of-clicks-per-day\" data-toc-modified-id=\"2)-Calculate-the-sum-of-clicks-per-day-1.2\">2) Calculate the sum of clicks per day</a></span></li><li><span><a href=\"#3)-Change-the-type-of-the-values-in-a-dict\" data-toc-modified-id=\"3)-Change-the-type-of-the-values-in-a-dict-1.3\">3) Change the type of the values in a <code>dict</code></a></span></li><li><span><a href=\"#4)-Convert-data-into-a-ontology\" data-toc-modified-id=\"4)-Convert-data-into-a-ontology-1.4\">4) Convert data into a ontology</a></span></li></ul></li></ul></div>"
   ]
  },
  {
   "cell_type": "markdown",
   "metadata": {
    "nbgrader": {
     "grade": false,
     "grade_id": "cell-588eb434a3567ee2",
     "locked": true,
     "schema_version": 1,
     "solution": false
    }
   },
   "source": [
    "<center><h1>Student Activity: Python's dict and friends</h1></center>"
   ]
  },
  {
   "cell_type": "markdown",
   "metadata": {},
   "source": [
    "1) Count the occurrence letters and get summary statistics\n",
    "----\n",
    "\n",
    "Import `Counter` and count the occurrence of each letter in \n",
    "\n",
    "`'abracadabra'`\n",
    "\n",
    "From the `Counter` instance:\n",
    "\n",
    "1. Slice out the most frequent letter.\n",
    "1. Find number of unique letters (cardinality). It will be the same as `set('abracadabra')`.\n",
    "1. Find total number of letters. It will be the same as `len('abracadabra')`"
   ]
  },
  {
   "cell_type": "code",
   "execution_count": null,
   "metadata": {},
   "outputs": [],
   "source": []
  },
  {
   "cell_type": "markdown",
   "metadata": {
    "nbgrader": {
     "grade": false,
     "grade_id": "cell-0d0a95a5eebfb8c9",
     "locked": true,
     "schema_version": 1,
     "solution": false
    }
   },
   "source": [
    "2) Calculate the sum of clicks per day\n",
    "-----\n",
    "\n",
    "Given log data with datestamp and number clicks, create an aggregate statistic of total count by date."
   ]
  },
  {
   "cell_type": "code",
   "execution_count": null,
   "metadata": {
    "nbgrader": {
     "grade": false,
     "grade_id": "cell-5de32fc3defb0c76",
     "locked": false,
     "schema_version": 1,
     "solution": true
    }
   },
   "outputs": [],
   "source": []
  },
  {
   "cell_type": "code",
   "execution_count": 28,
   "metadata": {
    "nbgrader": {
     "grade": true,
     "grade_id": "cell-fa7af86c508faf5f",
     "locked": true,
     "points": 3,
     "schema_version": 1,
     "solution": false
    }
   },
   "outputs": [],
   "source": [
    "# Test code\n",
    "\n",
    "logs = [  ('2009-09-02', 11),\n",
    "          ('2009-09-02', 3),\n",
    "          ('2009-09-03', 10),\n",
    "          ('2009-09-03', 4),\n",
    "          ('2009-09-03', 22),\n",
    "          ('2009-09-06', 33),\n",
    "          ('2009-09-02', 13), # Logs are not always in order!\n",
    "          ('2009-09-03', 15),\n",
    "       ]\n",
    "\n",
    "assert sum_clicks_per_day(logs) == (('2009-09-02', 27), \n",
    "                                    ('2009-09-03', 51), \n",
    "                                    ('2009-09-06', 33))"
   ]
  },
  {
   "cell_type": "markdown",
   "metadata": {},
   "source": [
    "3) Change the type of the values in a `dict`\n",
    "-----\n",
    "\n",
    "During data a processing, you noticed that the values of a dictionary are being stored as `str`. They should be `int`. \n",
    "\n",
    "Convert all type of each item in values to `int`."
   ]
  },
  {
   "cell_type": "code",
   "execution_count": 29,
   "metadata": {},
   "outputs": [],
   "source": [
    "original =  {'A': ['1', '2', '3', '4'],\n",
    "             'B': ['5', '6', '7', '8'],\n",
    "             'C': ['9', '10', '11', '12'],}"
   ]
  },
  {
   "cell_type": "code",
   "execution_count": null,
   "metadata": {},
   "outputs": [],
   "source": []
  },
  {
   "cell_type": "code",
   "execution_count": 31,
   "metadata": {},
   "outputs": [],
   "source": [
    "# Test code\n",
    "\n",
    "assert updated == {'A': [1, 2, 3, 4], \n",
    "                   'B': [5, 6, 7, 8], \n",
    "                   'C': [9, 10, 11, 12]}"
   ]
  },
  {
   "cell_type": "markdown",
   "metadata": {
    "nbgrader": {
     "grade": false,
     "grade_id": "cell-74b438b947b97bf6",
     "locked": true,
     "schema_version": 1,
     "solution": false
    }
   },
   "source": [
    "4) Convert data into a ontology\n",
    "----\n",
    "\n",
    "Ontology is a collection of various [taxonomies](https://en.wikipedia.org/wiki/Taxonomy) that can be used to describe a domain of knowledge along with the relationships among them. Ontology is organized metadata of associative relationships between entities.\n",
    "\n",
    "Ontologies are common in Natural Language Processing (NLP), see [WordNet](https://wordnet.princeton.edu/), and ecommerce, see Amazon.com search.\n",
    "\n",
    "Given [semantic triple](https://en.wikipedia.org/wiki/Semantic_triple) of subject–predicate–object, group them into a dictionary that captures the categorical relationships. The dictionary should only contain parent(key) and child (value) relationships, ignore all other relationships."
   ]
  },
  {
   "cell_type": "code",
   "execution_count": 32,
   "metadata": {},
   "outputs": [],
   "source": [
    "triples = [  [\"Ulta\", \"hasCategory\", \"Men\"],\n",
    "             [\"Ulta\", \"hasCategory\", \"Skin Care\"],\n",
    "             [\"Ulta\", \"hasCategory\", \"Gifts\"],\n",
    "             [\"Men\", \"hasCategory\", \"Shaving\"],\n",
    "             [\"Men\", \"hasCategory\", \"Cologne\"],\n",
    "             [\"Shaving\", \"hasCategory\", \"Aftershave\"],\n",
    "             [\"Aftershave\", \"Contains\", \"Alcohol\"],\n",
    "             [\"Shaving\", \"hasCategory\", \"Beard Care\"],\n",
    "             [\"Shaving\", \"hasCategory\", \"Shaving Cream & Razors\"],\n",
    "             [\"Gifts\", \"hasCategory\", \"Nail Gifts\"],\n",
    "             [\"Gifts\", \"hasCategory\", \"Skin Gifts\"],\n",
    "             [\"Gifts\", \"hasCategory\", \"ULTA Gifts\"],\n",
    "             [\"Gifts\", \"hasCategory\", \"Makeup Gifts\"],\n",
    "             [\"Makeup Gifts\", \"IsCouponEligible\", \"False\"],\n",
    "             [\"Ulta\", \"hasCategory\", \"Tools & Brushes\"],\n",
    "          ]\n"
   ]
  },
  {
   "cell_type": "markdown",
   "metadata": {},
   "source": [
    "<center><img src=\"images/ontology.png\" width=\"75%\"/></center>"
   ]
  },
  {
   "cell_type": "code",
   "execution_count": 33,
   "metadata": {},
   "outputs": [],
   "source": [
    "from collections import defaultdict # 👈 hint"
   ]
  },
  {
   "cell_type": "code",
   "execution_count": null,
   "metadata": {
    "nbgrader": {
     "grade": false,
     "grade_id": "cell-2ade1e17d92a2155",
     "locked": false,
     "schema_version": 1,
     "solution": true
    }
   },
   "outputs": [],
   "source": [
    "\n",
    "    "
   ]
  },
  {
   "cell_type": "code",
   "execution_count": 35,
   "metadata": {
    "nbgrader": {
     "grade": true,
     "grade_id": "cell-b007d895d9a078c3",
     "locked": true,
     "points": 4,
     "schema_version": 1,
     "solution": false
    }
   },
   "outputs": [],
   "source": [
    "# Test code\n",
    "\n",
    "assert make_ontology(triples) == {   \n",
    "                                     'Ulta':    {'Gifts', 'Men', 'Skin Care', 'Tools & Brushes'},\n",
    "                                     'Men':     {'Cologne', 'Shaving'},\n",
    "                                     'Shaving': {'Aftershave', 'Beard Care', 'Shaving Cream & Razors'},\n",
    "                                     'Gifts':   {'Makeup Gifts', 'Nail Gifts', 'Skin Gifts', 'ULTA Gifts'},\n",
    "                                   }\n"
   ]
  },
  {
   "cell_type": "markdown",
   "metadata": {
    "nbgrader": {
     "grade": false,
     "grade_id": "cell-ff2d070e25115ec4",
     "locked": true,
     "schema_version": 1,
     "solution": false
    }
   },
   "source": [
    "<br>\n",
    "<br> \n",
    "<br>\n",
    "\n",
    "----"
   ]
  }
 ],
 "metadata": {
  "anaconda-cloud": {},
  "celltoolbar": "Create Assignment",
  "kernelspec": {
   "display_name": "Python 3",
   "language": "python",
   "name": "python3"
  },
  "language_info": {
   "codemirror_mode": {
    "name": "ipython",
    "version": 3
   },
   "file_extension": ".py",
   "mimetype": "text/x-python",
   "name": "python",
   "nbconvert_exporter": "python",
   "pygments_lexer": "ipython3",
   "version": "3.7.4"
  },
  "toc": {
   "base_numbering": 1,
   "nav_menu": {},
   "number_sections": false,
   "sideBar": true,
   "skip_h1_title": false,
   "title_cell": "Table of Contents",
   "title_sidebar": "Contents",
   "toc_cell": true,
   "toc_position": {},
   "toc_section_display": true,
   "toc_window_display": false
  }
 },
 "nbformat": 4,
 "nbformat_minor": 1
}
