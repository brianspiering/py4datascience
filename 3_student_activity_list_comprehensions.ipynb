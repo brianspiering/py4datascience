{
 "cells": [
  {
   "cell_type": "markdown",
   "metadata": {
    "slideshow": {
     "slide_type": "skip"
    },
    "toc": true
   },
   "source": [
    "<h1>Table of Contents<span class=\"tocSkip\"></span></h1>\n",
    "<div class=\"toc\"><ul class=\"toc-item\"><li><span><a href=\"#Student-Activity\" data-toc-modified-id=\"Student-Activity-1\">Student Activity</a></span></li><li><span><a href=\"#Summary\" data-toc-modified-id=\"Summary-2\">Summary</a></span></li><li><span><a href=\"#Bonus-Material\" data-toc-modified-id=\"Bonus-Material-3\">Bonus Material</a></span></li></ul></div>"
   ]
  },
  {
   "cell_type": "markdown",
   "metadata": {},
   "source": [
    "<center><h2>Student Activity</h2></center>\n",
    "\n",
    "1. Write a list comp to remove all negative numbers:   \n",
    "    `spend = [0, 0, 0, 42, 1, .25, -1, 0, 0]`\n",
    "<br><br>\n",
    "1. Write a list comp to remove all `None`:   \n",
    "    `conversions = [0, 0, 0, 1, 1, 0, 0, None, 0, 0, 0, 1, 1, None]`\n",
    "<br><br>\n",
    "1. Write a list comp to remove all words that start 'a', upper-case remaining words:  \n",
    "    `stop_words = ['a', 'an', 'and', 'in', 'is', 'of', 'or', 'that', 'the', 'to']`\n",
    "<br><br>\n",
    "1. Write a list comp to transposes a matrix (list-of-lists):   \n",
    "   `[[1, 2, 3], [4, 5, 6]] -> [(1, 4), (2, 5), (3, 6)]`"
   ]
  },
  {
   "cell_type": "markdown",
   "metadata": {},
   "source": [
    " "
   ]
  }
 ],
 "metadata": {
  "celltoolbar": "Slideshow",
  "kernelspec": {
   "display_name": "Python 3",
   "language": "python",
   "name": "python3"
  },
  "language_info": {
   "codemirror_mode": {
    "name": "ipython",
    "version": 3
   },
   "file_extension": ".py",
   "mimetype": "text/x-python",
   "name": "python",
   "nbconvert_exporter": "python",
   "pygments_lexer": "ipython3",
   "version": "3.7.4"
  },
  "toc": {
   "base_numbering": 1,
   "nav_menu": {},
   "number_sections": false,
   "sideBar": false,
   "skip_h1_title": false,
   "title_cell": "Table of Contents",
   "title_sidebar": "Contents",
   "toc_cell": true,
   "toc_position": {},
   "toc_section_display": true,
   "toc_window_display": false
  }
 },
 "nbformat": 4,
 "nbformat_minor": 2
}
