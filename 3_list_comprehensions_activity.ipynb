{
 "cells": [
  {
   "cell_type": "markdown",
   "metadata": {
    "slideshow": {
     "slide_type": "skip"
    },
    "toc": true
   },
   "source": [
    "<h1>Table of Contents<span class=\"tocSkip\"></span></h1>\n",
    "<div class=\"toc\"><ul class=\"toc-item\"><li><span><a href=\"#Student-Activity:-List-comprehensions\" data-toc-modified-id=\"Student-Activity:-List-comprehensions-1\">Student Activity: List comprehensions</a></span><ul class=\"toc-item\"><li><span><a href=\"#1)-Write-a-list-comp-to-remove-all-negative-numbers:---\" data-toc-modified-id=\"1)-Write-a-list-comp-to-remove-all-negative-numbers:----1.1\">1) Write a list comp to remove all negative numbers:   </a></span></li><li><span><a href=\"#2)-Write-a-list-comp-to-remove-all-None:---\" data-toc-modified-id=\"2)-Write-a-list-comp-to-remove-all-None:----1.2\">2) Write a list comp to remove all <code>None</code>:   </a></span></li><li><span><a href=\"#3)-Write-a-list-comp-to-remove-all-words-that-start-'a',-then-upper-case-remaining-words:--\" data-toc-modified-id=\"3)-Write-a-list-comp-to-remove-all-words-that-start-'a',-then-upper-case-remaining-words:---1.3\">3) Write a list comp to remove all words that start 'a', then upper-case remaining words:  </a></span></li><li><span><a href=\"#4)-Write-a-normalization-function-\" data-toc-modified-id=\"4)-Write-a-normalization-function--1.4\">4) Write a normalization function </a></span></li><li><span><a href=\"#5)-Write-a-list-comp-to-transpose-a-matrix-(list-of-lists):---\" data-toc-modified-id=\"5)-Write-a-list-comp-to-transpose-a-matrix-(list-of-lists):----1.5\">5) Write a list comp to transpose a matrix (list-of-lists):   </a></span></li></ul></li></ul></div>"
   ]
  },
  {
   "cell_type": "markdown",
   "metadata": {
    "slideshow": {
     "slide_type": "slide"
    }
   },
   "source": [
    "<center><h1>Student Activity: List comprehensions</h1></center>"
   ]
  },
  {
   "cell_type": "markdown",
   "metadata": {
    "slideshow": {
     "slide_type": "slide"
    }
   },
   "source": [
    "1) Write a list comp to remove all negative numbers:   \n",
    "-----"
   ]
  },
  {
   "cell_type": "code",
   "execution_count": 1,
   "metadata": {},
   "outputs": [],
   "source": [
    "spend = [0, 0, 0, 42, 1, .25, -1, 0, 0]"
   ]
  },
  {
   "cell_type": "code",
   "execution_count": null,
   "metadata": {},
   "outputs": [],
   "source": []
  },
  {
   "cell_type": "markdown",
   "metadata": {},
   "source": [
    "2) Write a list comp to remove all `None`:   \n",
    "----\n"
   ]
  },
  {
   "cell_type": "code",
   "execution_count": null,
   "metadata": {},
   "outputs": [],
   "source": [
    "conversions = [0, 0, 0, 1, 1, 0, 0, None, 0, 0, 0, 1, 1, None]"
   ]
  },
  {
   "cell_type": "code",
   "execution_count": null,
   "metadata": {},
   "outputs": [],
   "source": []
  },
  {
   "cell_type": "markdown",
   "metadata": {},
   "source": [
    "3) Write a list comp to remove all words that start 'a', then upper-case remaining words:  \n",
    "-----\n"
   ]
  },
  {
   "cell_type": "code",
   "execution_count": 2,
   "metadata": {},
   "outputs": [],
   "source": [
    "stop_words = ['a', 'an', 'and', 'in', 'is', 'of', 'or', 'that', 'the', 'to']"
   ]
  },
  {
   "cell_type": "code",
   "execution_count": null,
   "metadata": {},
   "outputs": [],
   "source": []
  },
  {
   "cell_type": "markdown",
   "metadata": {},
   "source": [
    "4) Write a normalization function \n",
    "-----\n",
    "\n",
    "One type of [normalization](https://en.wikipedia.org/wiki/Normalization_(statistics))  linearly rescales a list of numbers values to be [0,1].\n",
    "\n",
    "This type of normalization is also called Min-Max Feature scaling. Often times in data science, we take raw values and rescale them to be normalization features which allows for easier comparisons across different types of raw data.\n",
    "\n",
    "Use this formula:\n",
    "\n",
    "$$ X′ = \\frac{X - X_{min}}{X_{max} - X_{min}} $$\n",
    "\n",
    "Given that the inputs and outputs are both lists, a list comp is appropriate.\n",
    "\n"
   ]
  },
  {
   "cell_type": "code",
   "execution_count": null,
   "metadata": {},
   "outputs": [],
   "source": []
  },
  {
   "cell_type": "code",
   "execution_count": null,
   "metadata": {},
   "outputs": [],
   "source": [
    "# Test cases for your function\n",
    "nums = list(range(-3, 5))\n",
    "assert min(normalize(nums)) == 0 \n",
    "assert max(normalize(nums)) == 1\n",
    "assert normalize(nums) ==   [0.0,\n",
    "                             0.14285714285714285,\n",
    "                             0.2857142857142857,\n",
    "                             0.42857142857142855,\n",
    "                             0.5714285714285714,\n",
    "                             0.7142857142857143,\n",
    "                             0.8571428571428571,\n",
    "                             1.0]\n",
    "\n",
    "nums = list(range(-99, 100))\n",
    "assert min(normalize(nums)) == 0\n",
    "assert normalize(nums)[49]  == 0.2474747474747475\n",
    "assert max(normalize(nums)) == 1"
   ]
  },
  {
   "cell_type": "markdown",
   "metadata": {},
   "source": [
    "5) Write a list comp to transpose a matrix (list-of-lists):   \n",
    "-----\n",
    "\n",
    "   `[[1, 2, 3], [4, 5, 6]] -> [(1, 4), (2, 5), (3, 6)]`"
   ]
  },
  {
   "cell_type": "code",
   "execution_count": null,
   "metadata": {},
   "outputs": [],
   "source": []
  }
 ],
 "metadata": {
  "celltoolbar": "Slideshow",
  "kernelspec": {
   "display_name": "Python 3",
   "language": "python",
   "name": "python3"
  },
  "language_info": {
   "codemirror_mode": {
    "name": "ipython",
    "version": 3
   },
   "file_extension": ".py",
   "mimetype": "text/x-python",
   "name": "python",
   "nbconvert_exporter": "python",
   "pygments_lexer": "ipython3",
   "version": "3.7.4"
  },
  "toc": {
   "base_numbering": 1,
   "nav_menu": {},
   "number_sections": false,
   "sideBar": false,
   "skip_h1_title": false,
   "title_cell": "Table of Contents",
   "title_sidebar": "Contents",
   "toc_cell": true,
   "toc_position": {},
   "toc_section_display": true,
   "toc_window_display": false
  }
 },
 "nbformat": 4,
 "nbformat_minor": 2
}
