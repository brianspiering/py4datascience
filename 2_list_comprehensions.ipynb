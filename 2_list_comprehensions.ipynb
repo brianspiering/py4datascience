{
 "cells": [
  {
   "cell_type": "markdown",
   "metadata": {
    "slideshow": {
     "slide_type": "skip"
    },
    "toc": true
   },
   "source": [
    "<h1>Table of Contents<span class=\"tocSkip\"></span></h1>\n",
    "<div class=\"toc\"><ul class=\"toc-item\"><li><span><a href=\"#Python's-list\" data-toc-modified-id=\"Python's-list-1\">Python's list</a></span></li><li><span><a href=\"#Learning-Outcomes\" data-toc-modified-id=\"Learning-Outcomes-2\">Learning Outcomes</a></span></li><li><span><a href=\"#Student-Activity:-Fill-in-the-Blanks\" data-toc-modified-id=\"Student-Activity:-Fill-in-the-Blanks-3\">Student Activity: Fill in the Blanks</a></span></li><li><span><a href=\"#Review\" data-toc-modified-id=\"Review-4\">Review</a></span></li><li><span><a href=\"#List-Methods\" data-toc-modified-id=\"List-Methods-5\">List Methods</a></span></li><li><span><a href=\"#Append-vs-extend\" data-toc-modified-id=\"Append-vs-extend-6\">Append vs extend</a></span></li><li><span><a href=\"#List-slicing\" data-toc-modified-id=\"List-slicing-7\">List slicing</a></span></li><li><span><a href=\"#Accumulator-pattern\" data-toc-modified-id=\"Accumulator-pattern-8\">Accumulator pattern</a></span></li><li><span><a href=\"#List-comprehension\" data-toc-modified-id=\"List-comprehension-9\">List comprehension</a></span></li><li><span><a href=\"#Summary\" data-toc-modified-id=\"Summary-10\">Summary</a></span></li><li><span><a href=\"#Bonus-Material\" data-toc-modified-id=\"Bonus-Material-11\">Bonus Material</a></span></li></ul></div>"
   ]
  },
  {
   "cell_type": "markdown",
   "metadata": {
    "slideshow": {
     "slide_type": "slide"
    }
   },
   "source": [
    "<center><h2>Python's list</h2></center>"
   ]
  },
  {
   "cell_type": "markdown",
   "metadata": {
    "slideshow": {
     "slide_type": "slide"
    }
   },
   "source": [
    "<center><h2>Learning Outcomes</h2></center>\n",
    "\n",
    "__By the end of this session, you should be able to__:\n",
    "\n",
    "- Explain the features and dangers of using Python's `list` datatype.\n",
    "- Use common `list` methods.\n",
    "- Write list comprehensions to compactly manipulate lists.\n"
   ]
  },
  {
   "cell_type": "markdown",
   "metadata": {
    "slideshow": {
     "slide_type": "slide"
    }
   },
   "source": [
    "<center><img src=\"images/suitcase.png\" width=\"35%\"/></center>\n",
    "\n",
    "Python `list` are like a suitcase - a nice way to carry things around."
   ]
  },
  {
   "cell_type": "code",
   "execution_count": 2,
   "metadata": {
    "slideshow": {
     "slide_type": "skip"
    }
   },
   "outputs": [],
   "source": [
    "reset -fs"
   ]
  },
  {
   "cell_type": "code",
   "execution_count": 3,
   "metadata": {
    "slideshow": {
     "slide_type": "slide"
    }
   },
   "outputs": [],
   "source": [
    "# Let's make list\n",
    "\n"
   ]
  },
  {
   "cell_type": "code",
   "execution_count": 4,
   "metadata": {
    "slideshow": {
     "slide_type": "skip"
    }
   },
   "outputs": [],
   "source": [
    "my_list = [42, \"brian\",  \"🐶\"]"
   ]
  },
  {
   "cell_type": "code",
   "execution_count": 5,
   "metadata": {
    "slideshow": {
     "slide_type": "fragment"
    }
   },
   "outputs": [],
   "source": [
    "# How do we know that is a list?\n",
    "\n"
   ]
  },
  {
   "cell_type": "code",
   "execution_count": 6,
   "metadata": {
    "slideshow": {
     "slide_type": "skip"
    }
   },
   "outputs": [
    {
     "data": {
      "text/plain": [
       "list"
      ]
     },
     "execution_count": 6,
     "metadata": {},
     "output_type": "execute_result"
    }
   ],
   "source": [
    "type(my_list)"
   ]
  },
  {
   "cell_type": "markdown",
   "metadata": {
    "slideshow": {
     "slide_type": "slide"
    }
   },
   "source": [
    "<center><h2>Student Activity: Fill in the Blanks</h2></center>\n",
    "\n",
    "Python's `list`:\n",
    "\n",
    "- Is a collection of \\_\\_\\_\\_\\_\\_\\_\\_\\_\\_\\_\\_\\_\\_ {ordered, unordered} items. \n",
    "- The generic name for this type of container is \\_\\_\\_\\_\\_\\_\\_\\_\\_\\_\\_\\_\\_\\_.\n",
    "- Can hold \\_\\_\\_\\_\\_\\_\\_\\_\\_\\_\\_\\_\\_\\_ {specific, any} any kind of data.\n",
    "- Are \\_\\_\\_\\_\\_\\_\\_\\_\\_\\_\\_\\_\\_\\_ {mutable (changeable), immutable (unchangeable)}."
   ]
  },
  {
   "cell_type": "markdown",
   "metadata": {
    "slideshow": {
     "slide_type": "slide"
    }
   },
   "source": [
    "<center><h2>Review</h2></center>\n",
    "\n",
    "Python's `list`:\n",
    "\n",
    "- Is a collection of __ordered__ items. \n",
    "- The generic name for this type of container is __sequence__.\n",
    "- Can hold __any__ kind of data.\n",
    "- Are __mutable (changeable)__.\n"
   ]
  },
  {
   "cell_type": "code",
   "execution_count": 7,
   "metadata": {
    "slideshow": {
     "slide_type": "slide"
    }
   },
   "outputs": [],
   "source": [
    "# Python's `list` can hold any any kind of data and each item can be a different type\n",
    "my_other_list = [sum, my_list, True, Ellipsis]"
   ]
  },
  {
   "cell_type": "markdown",
   "metadata": {
    "slideshow": {
     "slide_type": "slide"
    }
   },
   "source": [
    "List Methods\n",
    "-----"
   ]
  },
  {
   "cell_type": "code",
   "execution_count": 8,
   "metadata": {
    "slideshow": {
     "slide_type": "fragment"
    }
   },
   "outputs": [],
   "source": [
    "# my_other_list.<tab>"
   ]
  },
  {
   "cell_type": "code",
   "execution_count": 9,
   "metadata": {
    "slideshow": {
     "slide_type": "slide"
    }
   },
   "outputs": [
    {
     "data": {
      "text/plain": [
       "2"
      ]
     },
     "execution_count": 9,
     "metadata": {},
     "output_type": "execute_result"
    }
   ],
   "source": [
    "# Data Scienctist ❤️ to count\n",
    "my_list = [42, 'brian', 42]\n"
   ]
  },
  {
   "cell_type": "code",
   "execution_count": null,
   "metadata": {
    "slideshow": {
     "slide_type": "skip"
    }
   },
   "outputs": [],
   "source": [
    "my_list.count(42)"
   ]
  },
  {
   "cell_type": "code",
   "execution_count": 19,
   "metadata": {
    "slideshow": {
     "slide_type": "slide"
    }
   },
   "outputs": [
    {
     "data": {
      "text/plain": [
       "[3.14, 6.28, 42]"
      ]
     },
     "execution_count": 19,
     "metadata": {},
     "output_type": "execute_result"
    }
   ],
   "source": [
    "# Sorting is also fun\n",
    "yet_another_list = [42, 3.14, 6.28]\n"
   ]
  },
  {
   "cell_type": "code",
   "execution_count": null,
   "metadata": {
    "slideshow": {
     "slide_type": "skip"
    }
   },
   "outputs": [],
   "source": [
    "yet_another_list.sort()\n",
    "yet_another_list"
   ]
  },
  {
   "cell_type": "markdown",
   "metadata": {
    "slideshow": {
     "slide_type": "fragment"
    }
   },
   "source": [
    "Lists are mutable so sorting can happen in-place."
   ]
  },
  {
   "cell_type": "markdown",
   "metadata": {
    "slideshow": {
     "slide_type": "slide"
    }
   },
   "source": [
    "Append vs extend\n",
    "-----"
   ]
  },
  {
   "cell_type": "code",
   "execution_count": 11,
   "metadata": {
    "slideshow": {
     "slide_type": "fragment"
    }
   },
   "outputs": [
    {
     "data": {
      "text/plain": [
       "[-20, 3.14, 42, [42, 'brian', 42]]"
      ]
     },
     "execution_count": 11,
     "metadata": {},
     "output_type": "execute_result"
    }
   ],
   "source": [
    "# list.append inserts another item to the end of a list\n",
    "yet_another_list.append(my_list) \n",
    "yet_another_list"
   ]
  },
  {
   "cell_type": "code",
   "execution_count": 12,
   "metadata": {
    "slideshow": {
     "slide_type": "fragment"
    }
   },
   "outputs": [
    {
     "data": {
      "text/plain": [
       "[42, 3.14, -20, 42, 'brian', 42]"
      ]
     },
     "execution_count": 12,
     "metadata": {},
     "output_type": "execute_result"
    }
   ],
   "source": [
    "# list.extend concatenates two lists \n",
    "# concatenates is synonym for gluing two things end-to-end\n",
    "yet_another_list = [42, 3.14, -20]\n",
    "yet_another_list.extend(my_list) \n",
    "yet_another_list"
   ]
  },
  {
   "cell_type": "markdown",
   "metadata": {
    "slideshow": {
     "slide_type": "slide"
    }
   },
   "source": [
    "List slicing\n",
    "-----"
   ]
  },
  {
   "cell_type": "code",
   "execution_count": 21,
   "metadata": {
    "slideshow": {
     "slide_type": "fragment"
    }
   },
   "outputs": [
    {
     "data": {
      "text/plain": [
       "[3.14, 6.28, 42]"
      ]
     },
     "execution_count": 21,
     "metadata": {},
     "output_type": "execute_result"
    }
   ],
   "source": [
    "# List slicing works the same way as string (or any other sequence data)\n",
    "# [start, stop, step]\n",
    "yet_another_list[:]"
   ]
  },
  {
   "cell_type": "markdown",
   "metadata": {
    "slideshow": {
     "slide_type": "slide"
    }
   },
   "source": [
    "Accumulator pattern\n",
    "----"
   ]
  },
  {
   "cell_type": "code",
   "execution_count": null,
   "metadata": {
    "slideshow": {
     "slide_type": "fragment"
    }
   },
   "outputs": [],
   "source": [
    "# Let's build up a list\n",
    "\n",
    "\n"
   ]
  },
  {
   "cell_type": "code",
   "execution_count": 22,
   "metadata": {
    "slideshow": {
     "slide_type": "skip"
    }
   },
   "outputs": [
    {
     "data": {
      "text/plain": [
       "[0.7245805493542539,\n",
       " 0.2685117742567632,\n",
       " 0.23249950383635132,\n",
       " 0.4667817017662955,\n",
       " 0.9511944851568724,\n",
       " 0.22231535174570893,\n",
       " 0.018887335419348283,\n",
       " 0.1341236063669885,\n",
       " 0.5973599968074939,\n",
       " 0.7027069520172213,\n",
       " 0.6139723207248984,\n",
       " 0.24560718973616114,\n",
       " 0.7710128002313646,\n",
       " 0.941604056035515,\n",
       " 0.8880096190265397,\n",
       " 0.38658380351716004,\n",
       " 0.9031113194165379,\n",
       " 0.7085458873338829,\n",
       " 0.6102718759717618,\n",
       " 0.7844933693289203]"
      ]
     },
     "execution_count": 22,
     "metadata": {},
     "output_type": "execute_result"
    }
   ],
   "source": [
    "from random import random\n",
    "\n",
    "values = []\n",
    "for _ in range(20):\n",
    "    values.append(random())\n",
    "values"
   ]
  },
  {
   "cell_type": "code",
   "execution_count": null,
   "metadata": {
    "slideshow": {
     "slide_type": "slide"
    }
   },
   "outputs": [],
   "source": [
    "# Let's add conditional logic\n",
    "\n",
    "\n"
   ]
  },
  {
   "cell_type": "code",
   "execution_count": 23,
   "metadata": {
    "slideshow": {
     "slide_type": "skip"
    }
   },
   "outputs": [
    {
     "data": {
      "text/plain": [
       "[0.2685117742567632,\n",
       " 0.23249950383635132,\n",
       " 0.22231535174570893,\n",
       " 0.018887335419348283,\n",
       " 0.1341236063669885,\n",
       " 0.24560718973616114]"
      ]
     },
     "execution_count": 23,
     "metadata": {},
     "output_type": "execute_result"
    }
   ],
   "source": [
    "threshold = .35\n",
    "results = []\n",
    "for v in values:\n",
    "    if v < threshold:\n",
    "        results.append(v)\n",
    "        \n",
    "results"
   ]
  },
  {
   "cell_type": "markdown",
   "metadata": {
    "slideshow": {
     "slide_type": "slide"
    }
   },
   "source": [
    "<center><h2>List comprehension</h2></center>\n",
    "\n",
    "If we need to build up a list, we can use list comprehension, aka list comps."
   ]
  },
  {
   "cell_type": "code",
   "execution_count": null,
   "metadata": {
    "slideshow": {
     "slide_type": "fragment"
    }
   },
   "outputs": [],
   "source": [
    "# Let's refactor (do the same thing differently) our previous code\n",
    "\n"
   ]
  },
  {
   "cell_type": "code",
   "execution_count": null,
   "metadata": {
    "slideshow": {
     "slide_type": "skip"
    }
   },
   "outputs": [],
   "source": [
    "values = [random() for n in range(20)]\n",
    "values"
   ]
  },
  {
   "cell_type": "code",
   "execution_count": null,
   "metadata": {
    "slideshow": {
     "slide_type": "slide"
    }
   },
   "outputs": [],
   "source": [
    "# Let's filter with a list comprehensions\n",
    "\n"
   ]
  },
  {
   "cell_type": "code",
   "execution_count": 24,
   "metadata": {
    "slideshow": {
     "slide_type": "skip"
    }
   },
   "outputs": [
    {
     "data": {
      "text/plain": [
       "[0.2685117742567632,\n",
       " 0.23249950383635132,\n",
       " 0.22231535174570893,\n",
       " 0.018887335419348283,\n",
       " 0.1341236063669885,\n",
       " 0.24560718973616114]"
      ]
     },
     "execution_count": 24,
     "metadata": {},
     "output_type": "execute_result"
    }
   ],
   "source": [
    "results = [v for v in values if v < threshold]\n",
    "results"
   ]
  },
  {
   "cell_type": "markdown",
   "metadata": {
    "slideshow": {
     "slide_type": "slide"
    }
   },
   "source": [
    "Comprehension are very useful in data science for data cleaning. \n"
   ]
  },
  {
   "cell_type": "code",
   "execution_count": null,
   "metadata": {
    "slideshow": {
     "slide_type": "fragment"
    }
   },
   "outputs": [],
   "source": [
    "# Remove all zeros and square numbers\n"
   ]
  },
  {
   "cell_type": "code",
   "execution_count": null,
   "metadata": {
    "slideshow": {
     "slide_type": "skip"
    }
   },
   "outputs": [],
   "source": [
    "nums = [0, 1, 0, 3, 12, 0] \n",
    "nums = [n**2 for n in nums if n != 0]\n",
    "nums"
   ]
  },
  {
   "cell_type": "markdown",
   "metadata": {
    "slideshow": {
     "slide_type": "slide"
    }
   },
   "source": [
    "\n",
    "When should you use a list comprehension:\n",
    "\n",
    "- Programmatically building up a list\n",
    "- Transforming a list (both the inputs and outputs are lists)\n",
    "\n"
   ]
  },
  {
   "cell_type": "code",
   "execution_count": null,
   "metadata": {
    "slideshow": {
     "slide_type": "slide"
    }
   },
   "outputs": [],
   "source": [
    "# Let's do some string processing\n",
    "# Given a list of name, lower case each of them\n",
    "\n",
    "names = []"
   ]
  },
  {
   "cell_type": "code",
   "execution_count": null,
   "metadata": {
    "slideshow": {
     "slide_type": "skip"
    }
   },
   "outputs": [],
   "source": [
    "[name.lower() for name in names]"
   ]
  },
  {
   "cell_type": "code",
   "execution_count": null,
   "metadata": {
    "slideshow": {
     "slide_type": "slide"
    }
   },
   "outputs": [],
   "source": [
    "# Trick to save typing\n",
    "names = 'Mingming Stephanie Lina Matthew Sunny'.split()\n",
    "names"
   ]
  },
  {
   "cell_type": "markdown",
   "metadata": {
    "slideshow": {
     "slide_type": "slide"
    }
   },
   "source": [
    "<center><h2>Summary</h2></center>\n",
    "\n",
    "- List are a mutable, ordered collection of heterogeneous items.\n",
    "- List have useful methods:\n",
    "    + `list.count`, `list.append`, `list.extend`, `list.sort`, `list.copy`\n",
    "- If the input and outputs are a list, use a list comprehension."
   ]
  },
  {
   "cell_type": "markdown",
   "metadata": {
    "slideshow": {
     "slide_type": "slide"
    }
   },
   "source": [
    " "
   ]
  },
  {
   "cell_type": "markdown",
   "metadata": {
    "slideshow": {
     "slide_type": "slide"
    }
   },
   "source": [
    "Bonus Material\n",
    "-----"
   ]
  },
  {
   "cell_type": "code",
   "execution_count": null,
   "metadata": {},
   "outputs": [],
   "source": [
    "# Extra commaas don't matter\n",
    "scores = [67, 56, 61.5, ]\n",
    "scores"
   ]
  },
  {
   "cell_type": "markdown",
   "metadata": {},
   "source": [
    " "
   ]
  }
 ],
 "metadata": {
  "celltoolbar": "Slideshow",
  "kernelspec": {
   "display_name": "Python 3",
   "language": "python",
   "name": "python3"
  },
  "language_info": {
   "codemirror_mode": {
    "name": "ipython",
    "version": 3
   },
   "file_extension": ".py",
   "mimetype": "text/x-python",
   "name": "python",
   "nbconvert_exporter": "python",
   "pygments_lexer": "ipython3",
   "version": "3.7.4"
  },
  "toc": {
   "base_numbering": 1,
   "nav_menu": {},
   "number_sections": false,
   "sideBar": false,
   "skip_h1_title": false,
   "title_cell": "Table of Contents",
   "title_sidebar": "Contents",
   "toc_cell": true,
   "toc_position": {},
   "toc_section_display": true,
   "toc_window_display": false
  }
 },
 "nbformat": 4,
 "nbformat_minor": 2
}
